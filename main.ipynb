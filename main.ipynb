{
 "cells": [
  {
   "cell_type": "code",
   "execution_count": null,
   "metadata": {},
   "outputs": [],
   "source": [
    "import polars as pl\n",
    "import matplotlib.pyplot as plt\n",
    "from lib import stats_mean, stats_median, stats_std"
   ]
  },
  {
   "cell_type": "code",
   "execution_count": null,
   "metadata": {},
   "outputs": [],
   "source": [
    "## Create report of output\n",
    "def report(df):\n",
    "    result = {\n",
    "        \"mean\": (stats_mean(df)),\n",
    "        \"median\": (stats_median(df)),\n",
    "        \"std_dev\": (stats_std(df)),\n",
    "    }\n",
    "\n",
    "    file_path=\"desc_result.txt\"\n",
    "    with open(file_path, \"w\") as f:\n",
    "        for key, value in result.items():\n",
    "            f.write(\"%s:%s\\n\" % (key, value))\n",
    "            print(\"%s:%s\\n\" % (key, value))\n",
    "\n",
    "def visualization(df):\n",
    "    plt.hist(df[::,2].to_numpy(), edgecolor=\"k\", color=\"green\")\n",
    "    plt.title(\"Distribution of grades\")\n",
    "    plt.xlabel(\"Student grades\")\n",
    "    plt.ylabel(\"Student number\")\n",
    "    plt.savefig(\"grades_distribution.png\")\n"
   ]
  },
  {
   "cell_type": "code",
   "execution_count": null,
   "metadata": {},
   "outputs": [],
   "source": [
    "df = pl.read_csv('class_grades.csv')\n",
    "visualization(df)"
   ]
  },
  {
   "cell_type": "code",
   "execution_count": null,
   "metadata": {},
   "outputs": [],
   "source": [
    "df = pl.read_csv('class_grades.csv')\n",
    "report(df)"
   ]
  }
 ],
 "metadata": {
  "kernelspec": {
   "display_name": "Python 3",
   "language": "python",
   "name": "python3"
  },
  "language_info": {
   "codemirror_mode": {
    "name": "ipython",
    "version": 3
   },
   "file_extension": ".py",
   "mimetype": "text/x-python",
   "name": "python",
   "nbconvert_exporter": "python",
   "pygments_lexer": "ipython3",
   "version": "3.11.5"
  },
  "orig_nbformat": 4
 },
 "nbformat": 4,
 "nbformat_minor": 2
}
