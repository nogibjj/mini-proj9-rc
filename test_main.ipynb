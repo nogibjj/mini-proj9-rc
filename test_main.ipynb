{
 "cells": [
  {
   "cell_type": "code",
   "execution_count": 13,
   "metadata": {},
   "outputs": [],
   "source": [
    "import polars as pl\n",
    "from lib import stats_mean, stats_median, stats_std"
   ]
  },
  {
   "cell_type": "code",
   "execution_count": 14,
   "metadata": {},
   "outputs": [],
   "source": [
    "def test_values(df):\n",
    "    mean = stats_mean(df)\n",
    "    std = stats_std(df)\n",
    "    assert (stats_median(df)) == 77.0\n",
    "    assert (abs(mean-77.44)) < 0.1\n",
    "    assert (abs(std-12.732987850140937)) < 0.1\n",
    "    "
   ]
  },
  {
   "cell_type": "code",
   "execution_count": 15,
   "metadata": {},
   "outputs": [
    {
     "ename": "AssertionError",
     "evalue": "",
     "output_type": "error",
     "traceback": [
      "\u001b[0;31m---------------------------------------------------------------------------\u001b[0m",
      "\u001b[0;31mAssertionError\u001b[0m                            Traceback (most recent call last)",
      "\u001b[1;32m/Users/rui/mini-proj9-rc/test_main.ipynb Cell 3\u001b[0m line \u001b[0;36m2\n\u001b[1;32m      <a href='vscode-notebook-cell:/Users/rui/mini-proj9-rc/test_main.ipynb#W2sZmlsZQ%3D%3D?line=0'>1</a>\u001b[0m df \u001b[39m=\u001b[39m pl\u001b[39m.\u001b[39mread_csv(\u001b[39m\"\u001b[39m\u001b[39mclass_grades.csv\u001b[39m\u001b[39m\"\u001b[39m)\n\u001b[0;32m----> <a href='vscode-notebook-cell:/Users/rui/mini-proj9-rc/test_main.ipynb#W2sZmlsZQ%3D%3D?line=1'>2</a>\u001b[0m test_values(df)\n",
      "\u001b[1;32m/Users/rui/mini-proj9-rc/test_main.ipynb Cell 3\u001b[0m line \u001b[0;36m5\n\u001b[1;32m      <a href='vscode-notebook-cell:/Users/rui/mini-proj9-rc/test_main.ipynb#W2sZmlsZQ%3D%3D?line=2'>3</a>\u001b[0m std \u001b[39m=\u001b[39m stats_std(df)\n\u001b[1;32m      <a href='vscode-notebook-cell:/Users/rui/mini-proj9-rc/test_main.ipynb#W2sZmlsZQ%3D%3D?line=3'>4</a>\u001b[0m \u001b[39massert\u001b[39;00m (stats_median(df)) \u001b[39m==\u001b[39m \u001b[39m73.0\u001b[39m\n\u001b[0;32m----> <a href='vscode-notebook-cell:/Users/rui/mini-proj9-rc/test_main.ipynb#W2sZmlsZQ%3D%3D?line=4'>5</a>\u001b[0m \u001b[39massert\u001b[39;00m (\u001b[39mabs\u001b[39m(mean\u001b[39m-\u001b[39m\u001b[39m77.44\u001b[39m)) \u001b[39m<\u001b[39m \u001b[39m0.1\u001b[39m\n\u001b[1;32m      <a href='vscode-notebook-cell:/Users/rui/mini-proj9-rc/test_main.ipynb#W2sZmlsZQ%3D%3D?line=5'>6</a>\u001b[0m \u001b[39massert\u001b[39;00m (\u001b[39mabs\u001b[39m(std\u001b[39m-\u001b[39m\u001b[39m12.732987850140937\u001b[39m)) \u001b[39m<\u001b[39m \u001b[39m0.1\u001b[39m\n",
      "\u001b[0;31mAssertionError\u001b[0m: "
     ]
    }
   ],
   "source": [
    "df = pl.read_csv(\"class_grades.csv\")\n",
    "test_values(df)"
   ]
  }
 ],
 "metadata": {
  "kernelspec": {
   "display_name": "Python 3",
   "language": "python",
   "name": "python3"
  },
  "language_info": {
   "codemirror_mode": {
    "name": "ipython",
    "version": 3
   },
   "file_extension": ".py",
   "mimetype": "text/x-python",
   "name": "python",
   "nbconvert_exporter": "python",
   "pygments_lexer": "ipython3",
   "version": "3.11.5"
  },
  "orig_nbformat": 4
 },
 "nbformat": 4,
 "nbformat_minor": 2
}
